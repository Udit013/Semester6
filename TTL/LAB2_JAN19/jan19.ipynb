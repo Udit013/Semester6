{
 "cells": [
  {
   "cell_type": "code",
   "execution_count": 23,
   "metadata": {},
   "outputs": [
    {
     "name": "stdout",
     "output_type": "stream",
     "text": [
      "Hello world\n",
      "H\n",
      "llo\n",
      "llo world\n",
      "Hello worldHello world\n",
      "Hello world TEst\n",
      "HELLO WORLD\n"
     ]
    }
   ],
   "source": [
    "str=\"Hello world\"\n",
    "print(str)\n",
    "print (str[0])\n",
    "print (str[2:5])\n",
    "print (str[2:])\n",
    "print(str*2)\n",
    "print (str + \" TEst\")\n",
    "print(str.upper())\n"
   ]
  },
  {
   "cell_type": "code",
   "execution_count": 24,
   "metadata": {},
   "outputs": [
    {
     "name": "stdout",
     "output_type": "stream",
     "text": [
      "1. Got a true expression value\n",
      "100\n"
     ]
    }
   ],
   "source": [
    "var1=100\n",
    "if var1:\n",
    "    print(\"1. Got a true expression value\")\n",
    "    print (var1)\n",
    "else:\n",
    "    print(\"1.Got a false expression value\")\n",
    "    print(var1)    "
   ]
  },
  {
   "cell_type": "code",
   "execution_count": 9,
   "metadata": {},
   "outputs": [
    {
     "name": "stdout",
     "output_type": "stream",
     "text": [
      "apple\n",
      "australia\n"
     ]
    }
   ],
   "source": [
    "lis1=[\"apple\",\"australia\",\"banana\",\"cat\"]\n",
    "for i in lis1:\n",
    "    if i[0]== \"a\":\n",
    "        print(i)"
   ]
  },
  {
   "cell_type": "code",
   "execution_count": 2,
   "metadata": {},
   "outputs": [
    {
     "name": "stdout",
     "output_type": "stream",
     "text": [
      "2.Got a true expression value\n",
      "100\n"
     ]
    }
   ],
   "source": [
    "var=100\n",
    "if var == 200:\n",
    "    print(\"1.Got a true expression value\")\n",
    "    print(var)\n",
    "elif var ==100:\n",
    "    print(\"2.Got a true expression value\")\n",
    "    print (var)\n",
    "elif var==100:\n",
    "    print(\"3.Got a true expression value\")\n",
    "    print(var)\n",
    "else:\n",
    "    print(\"4.Got a false expression value\")\n",
    "    print(var)\n",
    "                "
   ]
  },
  {
   "cell_type": "code",
   "execution_count": 3,
   "metadata": {},
   "outputs": [
    {
     "name": "stdout",
     "output_type": "stream",
     "text": [
      "Goodbye!\n"
     ]
    }
   ],
   "source": [
    "count=0\n",
    "while(count<0):\n",
    "    print(\"the count is: \",count)\n",
    "    count=count+1\n",
    "print (\"Goodbye!\")\n",
    "\n",
    "           "
   ]
  },
  {
   "cell_type": "code",
   "execution_count": 5,
   "metadata": {},
   "outputs": [
    {
     "name": "stdout",
     "output_type": "stream",
     "text": [
      "is less than 5\n",
      "is less than 5\n",
      "is less than 5\n",
      "is less than 5\n",
      "is less than 5\n",
      "5 is not les than 5\n"
     ]
    }
   ],
   "source": [
    "count=0\n",
    "while(count<5):\n",
    "    print(\"is less than 5\")\n",
    "    count=count+1\n",
    "else:\n",
    "    print (count, \"is not les than 5\")"
   ]
  },
  {
   "cell_type": "code",
   "execution_count": 6,
   "metadata": {},
   "outputs": [
    {
     "name": "stdout",
     "output_type": "stream",
     "text": [
      "2  is prime\n",
      "3  is prime\n",
      "5  is prime\n",
      "7  is prime\n",
      "11  is prime\n",
      "13  is prime\n",
      "17  is prime\n",
      "19  is prime\n",
      "23  is prime\n",
      "29  is prime\n",
      "31  is prime\n",
      "37  is prime\n",
      "41  is prime\n",
      "43  is prime\n",
      "47  is prime\n",
      "53  is prime\n",
      "59  is prime\n",
      "61  is prime\n",
      "67  is prime\n",
      "71  is prime\n",
      "73  is prime\n",
      "79  is prime\n",
      "83  is prime\n",
      "89  is prime\n",
      "97  is prime\n",
      "Goodbye!\n"
     ]
    }
   ],
   "source": [
    "i=2\n",
    "while(i<100):\n",
    "    j=2\n",
    "    while(j<=100):\n",
    "        if not(i%j): break\n",
    "        j=j+1\n",
    "    if(j>i/j): print(i,\" is prime\")\n",
    "    i=i+1\n",
    "print(\"Goodbye!\")        "
   ]
  },
  {
   "cell_type": "code",
   "execution_count": 7,
   "metadata": {},
   "outputs": [
    {
     "name": "stdout",
     "output_type": "stream",
     "text": [
      "False\n"
     ]
    }
   ],
   "source": [
    "bool =True\n",
    "print(not(bool))\n"
   ]
  },
  {
   "cell_type": "code",
   "execution_count": 8,
   "metadata": {},
   "outputs": [
    {
     "name": "stdout",
     "output_type": "stream",
     "text": [
      "0\n",
      "3\n",
      "6\n",
      "9\n"
     ]
    }
   ],
   "source": [
    "for i in range(0,10,3):\n",
    "    print(i)"
   ]
  },
  {
   "cell_type": "code",
   "execution_count": 13,
   "metadata": {},
   "outputs": [
    {
     "name": "stdout",
     "output_type": "stream",
     "text": [
      "0\n",
      "-1\n",
      "-2\n",
      "-3\n",
      "-4\n",
      "-5\n",
      "-6\n",
      "-7\n",
      "-8\n",
      "-9\n",
      "-10\n"
     ]
    }
   ],
   "source": [
    "for i in range(0,-11,-1):\n",
    "    print(i)\n"
   ]
  },
  {
   "cell_type": "code",
   "execution_count": 18,
   "metadata": {},
   "outputs": [
    {
     "name": "stdout",
     "output_type": "stream",
     "text": [
      "KII\n",
      "IIT\n",
      "T\n"
     ]
    }
   ],
   "source": [
    "# employee1 = {\n",
    "#   \"name\" : \"Roshi\",\n",
    "#   \"other details\" : {\n",
    "#   \"empid\" : 556,\n",
    "#   \"salary\" : 50000\n",
    "#   }\n",
    "# }\n",
    "# employee2 = {\n",
    "#   \"name\" : \"Bulma\",\n",
    "#   \"empid\" : 100,\n",
    "#   \"salary\" : 40000\n",
    "# }\n",
    "# employee3 = {\n",
    "#   \"name\" : \"Shenron\",\n",
    "#   \"empid\" : 200,\n",
    "#   \"salary\" : 45000\n",
    "# }\n",
    "\n",
    "# department = {\n",
    "#   \"emp 1\" : employee1,\n",
    "#   \"emp 2\" : employee2,\n",
    "#   \"emp 3\" : employee3\n",
    "# }\n",
    "\n",
    "dic={\"A1\":\"KII\", \"A2\": \"IIT\", \"A3\": \"ABC\", \"A4\":\"T\"}\n",
    "for i in dic:\n",
    "    if dic[i] in \"KIIT\":\n",
    "        print(dic[i])"
   ]
  },
  {
   "cell_type": "code",
   "execution_count": 19,
   "metadata": {},
   "outputs": [
    {
     "name": "stdout",
     "output_type": "stream",
     "text": [
      "Current variable value:  9\n",
      "Current variable value:  8\n",
      "Current variable value:  7\n",
      "Current variable value:  6\n",
      "Current variable value:  5\n",
      "Current variable value:  4\n",
      "Current variable value:  3\n",
      "Current variable value:  2\n",
      "Current variable value:  1\n",
      "Goodbye!\n"
     ]
    }
   ],
   "source": [
    "var=10\n",
    "while var>0:\n",
    "    var=var-1\n",
    "    if var==0:\n",
    "        continue\n",
    "    print(\"Current variable value: \", var)\n",
    "print(\"Goodbye!\")    \n",
    "    "
   ]
  },
  {
   "cell_type": "code",
   "execution_count": 20,
   "metadata": {},
   "outputs": [
    {
     "name": "stdout",
     "output_type": "stream",
     "text": [
      "Current letter:  P\n",
      "Current letter:  y\n",
      "Current letter:  t\n",
      "Current letter:  o\n",
      "Current letter:  n\n"
     ]
    }
   ],
   "source": [
    "for letter in \"Python\":\n",
    "    if letter ==\"h\":\n",
    "        continue\n",
    "    print(\"Current letter: \",letter)"
   ]
  },
  {
   "cell_type": "code",
   "execution_count": 24,
   "metadata": {},
   "outputs": [
    {
     "name": "stdout",
     "output_type": "stream",
     "text": [
      "Values inside the fucntion:  [10, 20, 30, [1, 2, 3, 4]]\n",
      "Values inside the function:  [10, 20, 30, [1, 2, 3, 4]]\n"
     ]
    }
   ],
   "source": [
    "def func1(mylist):\n",
    "    mylist.append([1,2,3,4])\n",
    "    print(\"Values inside the fucntion: \", mylist)\n",
    "    return\n",
    "\n",
    "mylist=[10,20,30]\n",
    "func1(mylist)\n",
    "print(\"Values inside the function: \",mylist)"
   ]
  },
  {
   "cell_type": "code",
   "execution_count": 26,
   "metadata": {},
   "outputs": [
    {
     "name": "stdout",
     "output_type": "stream",
     "text": [
      "inside the fucntion local total:  30\n",
      "Outside this fucntion global total:  0\n"
     ]
    }
   ],
   "source": [
    "total=0\n",
    "def sum(arg1,arg2):\n",
    "    total=arg1+arg2\n",
    "    print(\"inside the fucntion local total: \", total)\n",
    "    return total\n",
    "sum(10,20)\n",
    "print(\"Outside this fucntion global total: \", total)"
   ]
  },
  {
   "cell_type": "code",
   "execution_count": 29,
   "metadata": {},
   "outputs": [
    {
     "name": "stdout",
     "output_type": "stream",
     "text": [
      "Hello honey bunnY\n"
     ]
    }
   ],
   "source": [
    "#Python program to capitalize the first and last character of each word in a string\n",
    "str1=\"hello honey bunny\"\n",
    "b=str1[0].upper()\n",
    "c=str1[-1].upper()\n",
    "print(b+str1[1:-1]+c)\n",
    "\n"
   ]
  },
  {
   "cell_type": "code",
   "execution_count": null,
   "metadata": {},
   "outputs": [],
   "source": [
    "#Python program to check if a string has at least one letter and one number\n",
    "\n"
   ]
  }
 ],
 "metadata": {
  "kernelspec": {
   "display_name": "base",
   "language": "python",
   "name": "python3"
  },
  "language_info": {
   "codemirror_mode": {
    "name": "ipython",
    "version": 3
   },
   "file_extension": ".py",
   "mimetype": "text/x-python",
   "name": "python",
   "nbconvert_exporter": "python",
   "pygments_lexer": "ipython3",
   "version": "3.7.0"
  },
  "orig_nbformat": 4,
  "vscode": {
   "interpreter": {
    "hash": "2a0ba0ef8e730113110b4ed93ee9cc2097e2382624eec5b2aa9dc4fd74a06cdd"
   }
  }
 },
 "nbformat": 4,
 "nbformat_minor": 2
}
