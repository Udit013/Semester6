{
 "cells": [
  {
   "cell_type": "code",
   "execution_count": 7,
   "metadata": {},
   "outputs": [],
   "source": [
    "import numpy as np"
   ]
  },
  {
   "cell_type": "code",
   "execution_count": 9,
   "metadata": {},
   "outputs": [
    {
     "data": {
      "text/plain": [
       "(2, 3)"
      ]
     },
     "execution_count": 9,
     "metadata": {},
     "output_type": "execute_result"
    }
   ],
   "source": [
    "\n",
    "a=np.array([1,2,3])\n",
    "a=np.array([[1,2],[3,4]])\n",
    "a=np.array([1,2,3,4,5],ndmin=2)\n",
    "a=np.array([1,2,3],dtype=complex)\n",
    "a=np.array([[1,2,3],[4,5,6]])\n",
    "a.shape"
   ]
  },
  {
   "cell_type": "code",
   "execution_count": 10,
   "metadata": {},
   "outputs": [
    {
     "data": {
      "text/plain": [
       "2"
      ]
     },
     "execution_count": 10,
     "metadata": {},
     "output_type": "execute_result"
    }
   ],
   "source": [
    "#dimensions\n",
    "a.ndim\n"
   ]
  },
  {
   "cell_type": "code",
   "execution_count": 11,
   "metadata": {},
   "outputs": [],
   "source": [
    "#Resizing an Array\n",
    "\n",
    "a = np.array([[1,2,3],[4,5,6]])\n",
    "\n",
    "a.shape = (3,2)\n",
    "\n",
    "a = np.array([[1,2,3],[4,5,6]])\n",
    "\n",
    "b = a.reshape(3,2)\n",
    "\n",
    "a = np.arange(24)\n",
    "\n",
    "x = np.arange(10,20,2)\n",
    "\n",
    "b = a.reshape(2,4,3)"
   ]
  },
  {
   "cell_type": "code",
   "execution_count": 12,
   "metadata": {},
   "outputs": [
    {
     "name": "stdout",
     "output_type": "stream",
     "text": [
      "1\n",
      "  C_CONTIGUOUS : True\n",
      "  F_CONTIGUOUS : True\n",
      "  OWNDATA : True\n",
      "  WRITEABLE : True\n",
      "  ALIGNED : True\n",
      "  WRITEBACKIFCOPY : False\n",
      "  UPDATEIFCOPY : False\n"
     ]
    }
   ],
   "source": [
    "#Returns the length of each element of array in bytes.\n",
    "\n",
    "x = np.array([1,2,3,4,5], dtype = np.int8)\n",
    "\n",
    "print (x.itemsize)\n",
    "\n",
    "x = np.array([1,2,3,4,5])\n",
    "\n",
    "print (x.flags)\n"
   ]
  },
  {
   "cell_type": "code",
   "execution_count": null,
   "metadata": {},
   "outputs": [],
   "source": [
    "#Array Creation\n",
    "\n",
    "#numpy.empty(shape, dtype = float, order = 'C')\n",
    "\n",
    "#C' for C-style row-major array 'F' for FORTRAN\n",
    "#style column-major array\n",
    "\n",
    "x = np.empty([3,2], dtype = int)\n"
   ]
  },
  {
   "cell_type": "code",
   "execution_count": 14,
   "metadata": {},
   "outputs": [],
   "source": [
    "#Array with Zero\n",
    "\n",
    "x = np.zeros(5)\n",
    "\n",
    "x = np.zeros((5,), dtype = int)\n"
   ]
  },
  {
   "cell_type": "code",
   "execution_count": 15,
   "metadata": {},
   "outputs": [],
   "source": [
    "#Array with Ones\n",
    "\n",
    "x = np.ones([2,2], dtype = int)"
   ]
  },
  {
   "cell_type": "code",
   "execution_count": 16,
   "metadata": {},
   "outputs": [
    {
     "name": "stdout",
     "output_type": "stream",
     "text": [
      "[0. 1. 2. 3. 4.]\n"
     ]
    }
   ],
   "source": [
    "#Array from Existing Data\n",
    "\n",
    "x = [1,2,3]\n",
    "\n",
    "a = np.asarray(x)\n",
    "\n",
    "list = range(5)\n",
    "\n",
    "it = iter(list) #iter function returns iterator\n",
    "\n",
    "x = np.fromiter(it, dtype = float)\n",
    "\n",
    "print (x)\n"
   ]
  },
  {
   "cell_type": "code",
   "execution_count": 17,
   "metadata": {},
   "outputs": [
    {
     "name": "stdout",
     "output_type": "stream",
     "text": [
      "1\n",
      "2\n",
      "3\n",
      "[2 4 6]\n",
      "[2 4 6]\n",
      "[[1 2 3]\n",
      " [3 4 5]\n",
      " [4 5 6]]\n",
      "The items in the second column are:\n",
      "[2 4 5]\n",
      "The items in the second row are:\n",
      "[3 4 5]\n"
     ]
    }
   ],
   "source": [
    "#Extraction by Slicing.\n",
    "\n",
    "for x in np.nditer(a):\n",
    "    print (x)\n",
    "\n",
    "a = np.arange(10)\n",
    "\n",
    "s = slice(2,7,2) # slice (start ,stop , step)\n",
    "\n",
    "print (a[s])\n",
    "\n",
    "b = a[2:7:2]\n",
    "\n",
    "print (b)\n",
    "\n",
    "a = np.array([[1,2,3],[3,4,5],[4,5,6]])\n",
    "\n",
    "print (a)\n",
    "\n",
    "print ('The items in the second column are:')\n",
    "\n",
    "print (a[...,1])\n",
    "\n",
    "print ('The items in the second row are:')\n",
    "\n",
    "print (a[1,...])"
   ]
  },
  {
   "cell_type": "code",
   "execution_count": 18,
   "metadata": {},
   "outputs": [
    {
     "name": "stdout",
     "output_type": "stream",
     "text": [
      "The items column 1 onwards are:\n",
      "[[2 3]\n",
      " [4 5]\n",
      " [5 6]]\n",
      "Array containing sine values:\n",
      "[0.         0.5        0.70710678 0.8660254  1.        ]\n",
      "\n",
      "\n",
      "Compute sine inverse of angles. Returned values are in radians.\n",
      "[0.         0.52359878 0.78539816 1.04719755 1.57079633]\n",
      "\n",
      "\n",
      "Check result by converting to degrees:\n",
      "[ 0. 30. 45. 60. 90.]\n",
      "\n",
      "\n",
      "arccos and arctan functions behave similarly:\n",
      "[1.00000000e+00 8.66025404e-01 7.07106781e-01 5.00000000e-01\n",
      " 6.12323400e-17]\n",
      "\n",
      "Inverse of cos:\n",
      "[0.         0.52359878 0.78539816 1.04719755 1.57079633]\n",
      "\n",
      "\n",
      "Tan function:\n",
      "[0.00000000e+00 5.77350269e-01 1.00000000e+00 1.73205081e+00\n",
      " 1.63312394e+16]\n",
      "Inverse of tan:\n",
      "[0.         0.52359878 0.78539816 1.04719755 1.57079633]\n",
      "In degrees:\n",
      "[ 0. 30. 45. 60. 90.]\n"
     ]
    }
   ],
   "source": [
    "# Now we will slice all items from column 1 onwards\n",
    "\n",
    "print ('The items column 1 onwards are:')\n",
    "\n",
    "print (a[...,1:])\n",
    "\n",
    "a = np.array([0,30,45,60,90])\n",
    "\n",
    "print ('Array containing sine values:')\n",
    "\n",
    "sin = np.sin(a*np.pi/180)\n",
    "\n",
    "print (sin)\n",
    "\n",
    "print ('\\n')\n",
    "\n",
    "print ('Compute sine inverse of angles. Returned values are in radians.')\n",
    "\n",
    "inv = np.arcsin(sin)\n",
    "\n",
    "print (inv)\n",
    "\n",
    "print ('\\n')\n",
    "\n",
    "print ('Check result by converting to degrees:')\n",
    "\n",
    "print (np.degrees(inv))\n",
    "\n",
    "print ('\\n')\n",
    "\n",
    "print ('arccos and arctan functions behave similarly:')\n",
    "\n",
    "cos = np.cos(a*np.pi/180)\n",
    "\n",
    "print (cos)\n",
    "\n",
    "print ()\n",
    "\n",
    "print ('Inverse of cos:')\n",
    "\n",
    "inv = np.arccos(cos)\n",
    "\n",
    "print (inv)\n",
    "\n",
    "print ('\\n')\n",
    "\n",
    "print ('Tan function:')\n",
    "\n",
    "tan = np.tan(a*np.pi/180)\n",
    "\n",
    "print (tan)\n",
    "\n",
    "print ('Inverse of tan:')\n",
    "\n",
    "inv = np.arctan(tan)\n",
    "\n",
    "print (inv)\n",
    "\n",
    "print ('In degrees:')\n",
    "\n",
    "print (np.degrees(inv))"
   ]
  },
  {
   "cell_type": "code",
   "execution_count": 16,
   "metadata": {},
   "outputs": [
    {
     "name": "stdout",
     "output_type": "stream",
     "text": [
      "[[  1   4   9]\n",
      " [ 16 169  49]\n",
      " [  4  36  25]]\n",
      "[[ 1.  2.  3.]\n",
      " [ 4. 13.  7.]\n",
      " [ 2.  6.  5.]]\n"
     ]
    }
   ],
   "source": [
    "arr=np.array([[1,4,9],[16,169,49],[4,36,25]])\n",
    "print(arr)\n",
    "arr_sq=np.sqrt(arr)\n",
    "print(arr_sq)\n"
   ]
  },
  {
   "cell_type": "code",
   "execution_count": 19,
   "metadata": {},
   "outputs": [
    {
     "name": "stdout",
     "output_type": "stream",
     "text": [
      "[  1   4   9  16 169  49   4  36  25]\n"
     ]
    }
   ],
   "source": [
    "flat=arr.flatten()\n",
    "print(flat)\n"
   ]
  },
  {
   "cell_type": "code",
   "execution_count": 24,
   "metadata": {},
   "outputs": [
    {
     "name": "stdout",
     "output_type": "stream",
     "text": [
      "[  1   4   9  16 169  49   4  36  25]\n",
      "[[  1   4   9]\n",
      " [ 16 169  49]\n",
      " [  4  36  25]]\n"
     ]
    }
   ],
   "source": [
    "arr_ravel=arr.ravel()\n",
    "print(arr_ravel)\n",
    "arr_ravel.shape=[3,3]\n",
    "print(arr_ravel)\n"
   ]
  },
  {
   "cell_type": "code",
   "execution_count": null,
   "metadata": {},
   "outputs": [],
   "source": [
    "#Find the Eiganvalues and Eiganvectors\n",
    "#8009387408"
   ]
  },
  {
   "cell_type": "code",
   "execution_count": 25,
   "metadata": {},
   "outputs": [
    {
     "name": "stdout",
     "output_type": "stream",
     "text": [
      "\n",
      "The following command must be run outside of the IPython shell:\n",
      "\n",
      "    $ pip install opencv-python\n",
      "\n",
      "The Python package manager (pip) can only be used from outside of IPython.\n",
      "Please reissue the `pip` command in a separate terminal or command prompt.\n",
      "\n",
      "See the Python documentation for more information on how to install packages:\n",
      "\n",
      "    https://docs.python.org/3/installing/\n"
     ]
    }
   ],
   "source": []
  }
 ],
 "metadata": {
  "kernelspec": {
   "display_name": "base",
   "language": "python",
   "name": "python3"
  },
  "language_info": {
   "codemirror_mode": {
    "name": "ipython",
    "version": 3
   },
   "file_extension": ".py",
   "mimetype": "text/x-python",
   "name": "python",
   "nbconvert_exporter": "python",
   "pygments_lexer": "ipython3",
   "version": "3.7.0"
  },
  "orig_nbformat": 4,
  "vscode": {
   "interpreter": {
    "hash": "2a0ba0ef8e730113110b4ed93ee9cc2097e2382624eec5b2aa9dc4fd74a06cdd"
   }
  }
 },
 "nbformat": 4,
 "nbformat_minor": 2
}
