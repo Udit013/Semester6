{
 "cells": [
  {
   "cell_type": "code",
   "execution_count": 1,
   "metadata": {},
   "outputs": [],
   "source": [
    "import cv2 as cv\n",
    "from matplotlib import pyplot as plt\n",
    "import numpy as np\n",
    "\n"
   ]
  },
  {
   "cell_type": "code",
   "execution_count": 2,
   "metadata": {},
   "outputs": [
    {
     "name": "stdout",
     "output_type": "stream",
     "text": [
      "<class 'numpy.ndarray'>\n",
      "[[[ 46  76  51]\n",
      "  [ 46  76  51]\n",
      "  [ 46  76  51]\n",
      "  ...\n",
      "  [  1 118  63]\n",
      "  [  0 118  63]\n",
      "  [  0 118  63]]\n",
      "\n",
      " [[ 46  76  51]\n",
      "  [ 46  76  51]\n",
      "  [ 46  76  51]\n",
      "  ...\n",
      "  [  1 118  63]\n",
      "  [  0 118  63]\n",
      "  [  0 119  64]]\n",
      "\n",
      " [[ 46  76  51]\n",
      "  [ 46  76  51]\n",
      "  [ 46  76  51]\n",
      "  ...\n",
      "  [  0 119  64]\n",
      "  [  0 119  64]\n",
      "  [  0 119  64]]\n",
      "\n",
      " ...\n",
      "\n",
      " [[  2   4   5]\n",
      "  [  1   3   4]\n",
      "  [  1   2   6]\n",
      "  ...\n",
      "  [  0   3   4]\n",
      "  [  0   1   2]\n",
      "  [  0   0   1]]\n",
      "\n",
      " [[  4   3   7]\n",
      "  [  4   3   7]\n",
      "  [  3   2   6]\n",
      "  ...\n",
      "  [  0   2   3]\n",
      "  [  0   1   2]\n",
      "  [  0   0   1]]\n",
      "\n",
      " [[  4   3   7]\n",
      "  [  4   3   7]\n",
      "  [  3   2   6]\n",
      "  ...\n",
      "  [  1   3   4]\n",
      "  [  2   1   3]\n",
      "  [  2   1   3]]]\n",
      "(424, 640, 3)\n",
      "[80 95 97]\n"
     ]
    }
   ],
   "source": [
    "img = cv.imread(r'/home/udit/Downloads/BabyBaboon.jpeg',1)\n",
    "print(type(img))\n",
    "\n",
    "print(img)\n",
    "print(img.shape)\n",
    "px = img[10,100]\n",
    "print(px)\n",
    "\n",
    "cv.imshow('Image',img)\n",
    "cv.waitKey()\n",
    "cv.destroyAllWindows()"
   ]
  },
  {
   "cell_type": "code",
   "execution_count": 2,
   "metadata": {},
   "outputs": [],
   "source": [
    "# 1.Output an updated image without green channel\n",
    "# 2.Find the invented image of the original image (don't use direct function use 100ps)\n",
    "# hint: Substract individual pixels in each channel with 255\n",
    "\n",
    "img = cv.imread(r'/home/udit/Downloads/BabyBaboon.jpeg',1)\n",
    "cv.imshow(\"Pic\",img)\n",
    "img_not = cv.bitwise_not(img)\n",
    "cv.imshow(\"Invert1\",img_not)\n",
    "cv.waitKey(0)\n",
    "cv.destroyAllWindows()"
   ]
  },
  {
   "cell_type": "code",
   "execution_count": 3,
   "metadata": {},
   "outputs": [
    {
     "name": "stdout",
     "output_type": "stream",
     "text": [
      "(424, 640, 3)\n"
     ]
    },
    {
     "data": {
      "text/plain": [
       "True"
      ]
     },
     "execution_count": 3,
     "metadata": {},
     "output_type": "execute_result"
    }
   ],
   "source": [
    "\n",
    "src = cv.imread('/home/udit/Downloads/BabyBaboon.jpeg', cv.IMREAD_UNCHANGED)\n",
    "print(src.shape)\n",
    "\n",
    "src[:,:,1] = np.zeros([src.shape[0], src.shape[1]])\n",
    "\n",
    "cv.imwrite('/home/udit/Semester6/TTL/LAB6_MAR02/nogreenBabyBaboon.jpeg',src)\n"
   ]
  }
 ],
 "metadata": {
  "kernelspec": {
   "display_name": "base",
   "language": "python",
   "name": "python3"
  },
  "language_info": {
   "codemirror_mode": {
    "name": "ipython",
    "version": 3
   },
   "file_extension": ".py",
   "mimetype": "text/x-python",
   "name": "python",
   "nbconvert_exporter": "python",
   "pygments_lexer": "ipython3",
   "version": "3.7.0"
  },
  "orig_nbformat": 4,
  "vscode": {
   "interpreter": {
    "hash": "2a0ba0ef8e730113110b4ed93ee9cc2097e2382624eec5b2aa9dc4fd74a06cdd"
   }
  }
 },
 "nbformat": 4,
 "nbformat_minor": 2
}
